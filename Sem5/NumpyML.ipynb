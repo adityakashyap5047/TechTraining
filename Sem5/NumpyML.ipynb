{
 "cells": [
  {
   "cell_type": "markdown",
   "id": "2b78c90d",
   "metadata": {},
   "source": [
    "#### Numpy\n",
    "\n",
    "- Numpy(Numerical Python) is a pyton library for fast numerical computations\n",
    "- Provides multidimensional arrays(faster than python lists)\n",
    "- Used heavily in data science, machine learning, image processing and deep learning"
   ]
  },
  {
   "cell_type": "markdown",
   "id": "587f48ae",
   "metadata": {},
   "source": [
    "#### Why Numpy instead of Lists?\n",
    "\n",
    "- Python lists are slow and take more memory\n",
    "\n",
    "- Numpy arrays are:\n",
    "    - lkfjds"
   ]
  },
  {
   "cell_type": "code",
   "execution_count": 1,
   "id": "660c0cfa",
   "metadata": {},
   "outputs": [],
   "source": [
    "import numpy as np"
   ]
  },
  {
   "cell_type": "code",
   "execution_count": 2,
   "id": "cd31bdd0",
   "metadata": {},
   "outputs": [
    {
     "name": "stdout",
     "output_type": "stream",
     "text": [
      "[2 3 4 5 8]\n",
      "<class 'numpy.ndarray'>\n"
     ]
    }
   ],
   "source": [
    "# From List\n",
    "\n",
    "arr = np.array([2, 3, 4, 5, 8])\n",
    "print(arr)\n",
    "print(type(arr))"
   ]
  },
  {
   "cell_type": "code",
   "execution_count": 4,
   "id": "5fd0d482",
   "metadata": {},
   "outputs": [
    {
     "name": "stdout",
     "output_type": "stream",
     "text": [
      "1\n",
      "2\n",
      "3\n",
      "[1 2 3]\n",
      "[[1 2 3]\n",
      " [4 5 6]]\n",
      "[[[1 2]\n",
      "  [3 4]]\n",
      "\n",
      " [[5 6]\n",
      "  [7 8]]]\n"
     ]
    }
   ],
   "source": [
    "# Array Dimensions\n",
    "\n",
    "# 1D Array\n",
    "a = np.array([1, 2, 3])\n",
    "\n",
    "# 2D Array\n",
    "b = np.array([[1, 2, 3], [4, 5, 6]])\n",
    "\n",
    "# 3D Array\n",
    "c = np.array([[[1, 2], [3, 4]], [[5, 6], [7, 8]]])\n",
    "\n",
    "# View Dimension\n",
    "print(a.ndim)\n",
    "print(b.ndim)\n",
    "print(c.ndim)\n",
    "\n",
    "print(a)\n",
    "print(b)\n",
    "print(c)"
   ]
  },
  {
   "cell_type": "code",
   "execution_count": null,
   "id": "adb26653",
   "metadata": {},
   "outputs": [
    {
     "data": {
      "text/plain": [
       "array([[0., 0., 0.],\n",
       "       [0., 0., 0.]])"
      ]
     },
     "execution_count": 5,
     "metadata": {},
     "output_type": "execute_result"
    }
   ],
   "source": [
    "# Useful Array Creation Methods\n",
    "\n",
    "np.zeros((2, 3))     # 2x3 with 0's"
   ]
  },
  {
   "cell_type": "code",
   "execution_count": 6,
   "id": "9a78a0be",
   "metadata": {},
   "outputs": [
    {
     "data": {
      "text/plain": [
       "array([[1., 1., 1.],\n",
       "       [1., 1., 1.],\n",
       "       [1., 1., 1.]])"
      ]
     },
     "execution_count": 6,
     "metadata": {},
     "output_type": "execute_result"
    }
   ],
   "source": [
    "np.ones((3, 3))"
   ]
  },
  {
   "cell_type": "code",
   "execution_count": 12,
   "id": "443e5d34",
   "metadata": {},
   "outputs": [
    {
     "data": {
      "text/plain": [
       "array([[3, 3, 3, 3, 3, 3],\n",
       "       [3, 3, 3, 3, 3, 3],\n",
       "       [3, 3, 3, 3, 3, 3],\n",
       "       [3, 3, 3, 3, 3, 3]])"
      ]
     },
     "execution_count": 12,
     "metadata": {},
     "output_type": "execute_result"
    }
   ],
   "source": [
    "np.full((4, 6), 3)  # 2x2 filled with 7"
   ]
  },
  {
   "cell_type": "code",
   "execution_count": 13,
   "id": "64b00f8d",
   "metadata": {},
   "outputs": [
    {
     "data": {
      "text/plain": [
       "array([[1., 0., 0.],\n",
       "       [0., 1., 0.],\n",
       "       [0., 0., 1.]])"
      ]
     },
     "execution_count": 13,
     "metadata": {},
     "output_type": "execute_result"
    }
   ],
   "source": [
    "np.eye(3) # Identity matrix"
   ]
  },
  {
   "cell_type": "code",
   "execution_count": 16,
   "id": "1e09a5c0",
   "metadata": {},
   "outputs": [
    {
     "data": {
      "text/plain": [
       "array([0, 2, 4, 6, 8])"
      ]
     },
     "execution_count": 16,
     "metadata": {},
     "output_type": "execute_result"
    }
   ],
   "source": [
    "np.arange(0, 10, 2)"
   ]
  },
  {
   "cell_type": "code",
   "execution_count": 28,
   "id": "9b9675a6",
   "metadata": {},
   "outputs": [
    {
     "name": "stdout",
     "output_type": "stream",
     "text": [
      "[ 0.  2.  4.  6.  8. 10.]\n",
      "[ 0.   2.5  5.   7.5 10. ]\n",
      "[10. 12. 14. 16. 18. 20.]\n"
     ]
    }
   ],
   "source": [
    "print(np.linspace(0, 10, 6)) # Divide in parts provided in parameter\n",
    "print(np.linspace(0, 10, 5))\n",
    "# np.linspace(a, b, c) # divide the a to b in c parts whoose difference is same\n",
    "print(np.linspace(10, 20, 6))"
   ]
  },
  {
   "cell_type": "code",
   "execution_count": 29,
   "id": "4ee434b6",
   "metadata": {},
   "outputs": [
    {
     "name": "stdout",
     "output_type": "stream",
     "text": [
      "10\n",
      "50\n",
      "[20 30 40]\n"
     ]
    }
   ],
   "source": [
    "# Array Indexing and Slicing\n",
    "\n",
    "arr = np.array([10, 20, 30, 40, 50])\n",
    "\n",
    "print(arr[0])\n",
    "print(arr[-1])\n",
    "print(arr[1: 4])"
   ]
  },
  {
   "cell_type": "code",
   "execution_count": null,
   "id": "614168ac",
   "metadata": {},
   "outputs": [
    {
     "name": "stdout",
     "output_type": "stream",
     "text": [
      "[[1 2 3]\n",
      " [4 5 6]]\n",
      "2\n",
      "[2 5]\n",
      "*******\n",
      "[4 5 6]\n"
     ]
    }
   ],
   "source": [
    "# 2D Example\n",
    "\n",
    "mat = np.array([[1, 2, 3], [4, 5, 6]])\n",
    "\n",
    "print(mat)\n",
    "print(mat[0, 1])\n",
    "print(mat[:, 1]) # [2, 5] all rows 1st column\n",
    "print(\"*******\")\n",
    "print(mat[1, :])    # [4, 5, 6] all columns 1 rows"
   ]
  },
  {
   "cell_type": "code",
   "execution_count": 36,
   "id": "afed299a",
   "metadata": {},
   "outputs": [
    {
     "name": "stdout",
     "output_type": "stream",
     "text": [
      "[5 7 9]\n",
      "[-3 -3 -3]\n",
      "[ 4 10 18]\n",
      "[0.25 0.4  0.5 ]\n"
     ]
    }
   ],
   "source": [
    "# Array Operations\n",
    "\n",
    "x = np.array([1, 2, 3])\n",
    "y = np.array([4, 5, 6])\n",
    "\n",
    "print(x+y)\n",
    "print(x-y)\n",
    "print(x*y)\n",
    "print(x/y)"
   ]
  },
  {
   "cell_type": "code",
   "execution_count": 41,
   "id": "c2937e4a",
   "metadata": {},
   "outputs": [
    {
     "name": "stdout",
     "output_type": "stream",
     "text": [
      "3.0\n",
      "3.0\n",
      "2.0\n",
      "21\n",
      "6\n",
      "0\n"
     ]
    }
   ],
   "source": [
    "# Mathematical Functions\n",
    "\n",
    "arr = np.array([0, 1, 2, 3, 4, 5, 6])\n",
    "\n",
    "print(np.mean(arr))\n",
    "print(np.median(arr))\n",
    "print(np.std(arr))\n",
    "print(np.sum(arr))\n",
    "print(np.max(arr))\n",
    "print(np.min(arr))"
   ]
  },
  {
   "cell_type": "code",
   "execution_count": 44,
   "id": "4e78b160",
   "metadata": {},
   "outputs": [
    {
     "name": "stdout",
     "output_type": "stream",
     "text": [
      "[ 0  1  2  3  4  5  6  7  8  9 10 11]\n",
      "[[ 0  1  2  3]\n",
      " [ 4  5  6  7]\n",
      " [ 8  9 10 11]]\n"
     ]
    }
   ],
   "source": [
    "# Reshaping Arrays\n",
    "\n",
    "arr = np.arange(12)\n",
    "print(arr)\n",
    "\n",
    "reshaped = arr.reshape(3, 4)\n",
    "print(reshaped)"
   ]
  },
  {
   "cell_type": "code",
   "execution_count": null,
   "id": "711381c2",
   "metadata": {},
   "outputs": [],
   "source": []
  }
 ],
 "metadata": {
  "kernelspec": {
   "display_name": "Python 3",
   "language": "python",
   "name": "python3"
  },
  "language_info": {
   "codemirror_mode": {
    "name": "ipython",
    "version": 3
   },
   "file_extension": ".py",
   "mimetype": "text/x-python",
   "name": "python",
   "nbconvert_exporter": "python",
   "pygments_lexer": "ipython3",
   "version": "3.11.0"
  }
 },
 "nbformat": 4,
 "nbformat_minor": 5
}
