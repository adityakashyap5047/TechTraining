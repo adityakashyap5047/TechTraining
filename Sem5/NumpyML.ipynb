{
 "cells": [
  {
   "cell_type": "markdown",
   "id": "2b78c90d",
   "metadata": {},
   "source": [
    "#### Numpy\n",
    "\n",
    "- Numpy(Numerical Python) is a pyton library for fast numerical computations\n",
    "- Provides multidimensional arrays(faster than python lists)\n",
    "- Used heavily in data science, machine learning, image processing and deep learning"
   ]
  },
  {
   "cell_type": "markdown",
   "id": "587f48ae",
   "metadata": {},
   "source": [
    "#### Why Numpy instead of Lists?\n",
    "\n",
    "- Python lists are slow and take more memory\n",
    "\n",
    "- Numpy arrays are:\n",
    "    - lkfjds"
   ]
  },
  {
   "cell_type": "code",
   "execution_count": 1,
   "id": "660c0cfa",
   "metadata": {},
   "outputs": [],
   "source": [
    "import numpy as np"
   ]
  },
  {
   "cell_type": "code",
   "execution_count": 2,
   "id": "cd31bdd0",
   "metadata": {},
   "outputs": [
    {
     "name": "stdout",
     "output_type": "stream",
     "text": [
      "[2 3 4 5 8]\n",
      "<class 'numpy.ndarray'>\n"
     ]
    }
   ],
   "source": [
    "# From List\n",
    "\n",
    "arr = np.array([2, 3, 4, 5, 8])\n",
    "print(arr)\n",
    "print(type(arr))"
   ]
  },
  {
   "cell_type": "code",
   "execution_count": 4,
   "id": "5fd0d482",
   "metadata": {},
   "outputs": [
    {
     "name": "stdout",
     "output_type": "stream",
     "text": [
      "1\n",
      "2\n",
      "3\n",
      "[1 2 3]\n",
      "[[1 2 3]\n",
      " [4 5 6]]\n",
      "[[[1 2]\n",
      "  [3 4]]\n",
      "\n",
      " [[5 6]\n",
      "  [7 8]]]\n"
     ]
    }
   ],
   "source": [
    "# Array Dimensions\n",
    "\n",
    "# 1D Array\n",
    "a = np.array([1, 2, 3])\n",
    "\n",
    "# 2D Array\n",
    "b = np.array([[1, 2, 3], [4, 5, 6]])\n",
    "\n",
    "# 3D Array\n",
    "c = np.array([[[1, 2], [3, 4]], [[5, 6], [7, 8]]])\n",
    "\n",
    "# View Dimension\n",
    "print(a.ndim)\n",
    "print(b.ndim)\n",
    "print(c.ndim)\n",
    "\n",
    "print(a)\n",
    "print(b)\n",
    "print(c)"
   ]
  },
  {
   "cell_type": "code",
   "execution_count": null,
   "id": "adb26653",
   "metadata": {},
   "outputs": [],
   "source": []
  }
 ],
 "metadata": {
  "kernelspec": {
   "display_name": "Python 3",
   "language": "python",
   "name": "python3"
  },
  "language_info": {
   "codemirror_mode": {
    "name": "ipython",
    "version": 3
   },
   "file_extension": ".py",
   "mimetype": "text/x-python",
   "name": "python",
   "nbconvert_exporter": "python",
   "pygments_lexer": "ipython3",
   "version": "3.11.0"
  }
 },
 "nbformat": 4,
 "nbformat_minor": 5
}
