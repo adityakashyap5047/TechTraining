{
 "cells": [
  {
   "cell_type": "markdown",
   "id": "2e64efca",
   "metadata": {},
   "source": [
    "#### Basic"
   ]
  },
  {
   "cell_type": "code",
   "execution_count": 1,
   "id": "1560c43e",
   "metadata": {},
   "outputs": [
    {
     "data": {
      "text/plain": [
       "10"
      ]
     },
     "execution_count": 1,
     "metadata": {},
     "output_type": "execute_result"
    }
   ],
   "source": [
    "x = 10\n",
    "x"
   ]
  },
  {
   "cell_type": "code",
   "execution_count": 2,
   "id": "384d8286",
   "metadata": {},
   "outputs": [
    {
     "data": {
      "text/plain": [
       "20"
      ]
     },
     "execution_count": 2,
     "metadata": {},
     "output_type": "execute_result"
    }
   ],
   "source": [
    "y = 20\n",
    "y"
   ]
  },
  {
   "cell_type": "markdown",
   "id": "8cf155f7",
   "metadata": {},
   "source": [
    "#### String\n",
    "\n",
    "- Strings are sequence of characters, enclosed with single '', double \"\" and triple ''' ''' or \"\"\" \"\"\" quote"
   ]
  },
  {
   "cell_type": "code",
   "execution_count": 4,
   "id": "f0242f6f",
   "metadata": {},
   "outputs": [
    {
     "data": {
      "text/plain": [
       "'Aditya'"
      ]
     },
     "execution_count": 4,
     "metadata": {},
     "output_type": "execute_result"
    }
   ],
   "source": [
    "# Creating String\n",
    "\n",
    "name = \"Aditya\"\n",
    "name"
   ]
  },
  {
   "cell_type": "code",
   "execution_count": 6,
   "id": "b36d81d4",
   "metadata": {},
   "outputs": [
    {
     "name": "stdout",
     "output_type": "stream",
     "text": [
      "Aditya\n",
      "Kumar\n"
     ]
    }
   ],
   "source": [
    "# Escape Character\n",
    "\n",
    "first_name = \"Aditya\"\n",
    "last_name = \"Kumar\"\n",
    "\n",
    "print(first_name + \"\\n\" + last_name)"
   ]
  },
  {
   "cell_type": "code",
   "execution_count": 7,
   "id": "ff226f90",
   "metadata": {},
   "outputs": [
    {
     "name": "stdout",
     "output_type": "stream",
     "text": [
      "A\n"
     ]
    }
   ],
   "source": [
    "# Accessing Characters\n",
    "print(name[0])"
   ]
  },
  {
   "cell_type": "code",
   "execution_count": 8,
   "id": "1e5b40b3",
   "metadata": {},
   "outputs": [
    {
     "name": "stdout",
     "output_type": "stream",
     "text": [
      "Aditya Kumar\n",
      "AdityaAdityaAditya\n"
     ]
    }
   ],
   "source": [
    "# String Operation\n",
    "print(first_name + \" \" + last_name) # Concatenating Strings\n",
    "print(first_name * 3) # Repeating Strings"
   ]
  },
  {
   "cell_type": "code",
   "execution_count": null,
   "id": "3c735101",
   "metadata": {},
   "outputs": [
    {
     "data": {
      "text/plain": [
       "4"
      ]
     },
     "execution_count": 11,
     "metadata": {},
     "output_type": "execute_result"
    }
   ],
   "source": [
    "a = 3; b = 4"
   ]
  },
  {
   "cell_type": "code",
   "execution_count": 13,
   "id": "5443e2d7",
   "metadata": {},
   "outputs": [
    {
     "data": {
      "text/plain": [
       "14"
      ]
     },
     "execution_count": 13,
     "metadata": {},
     "output_type": "execute_result"
    }
   ],
   "source": [
    "c = 4 + 5 + 3\\\n",
    "            + 2\n",
    "c"
   ]
  },
  {
   "cell_type": "code",
   "execution_count": 16,
   "id": "9f2bad39",
   "metadata": {},
   "outputs": [
    {
     "name": "stdout",
     "output_type": "stream",
     "text": [
      "aditya\n",
      "ADITYA\n",
      "Space\n",
      "aaaaaSpaceaaaaa123\n"
     ]
    }
   ],
   "source": [
    "# String Methods\n",
    "\n",
    "print(first_name.lower())\n",
    "print(first_name.upper())\n",
    "print(\"      Space        \".strip())\n",
    "print(\"     Space     123\".replace(\" \", \"a\"))"
   ]
  },
  {
   "cell_type": "markdown",
   "id": "deac45f0",
   "metadata": {},
   "source": [
    "#### List\n",
    "\n",
    "- Lists are ordered, multable collections\n",
    "\n",
    "- Defined with []"
   ]
  },
  {
   "cell_type": "code",
   "execution_count": 17,
   "id": "17d86339",
   "metadata": {},
   "outputs": [
    {
     "name": "stdout",
     "output_type": "stream",
     "text": [
      "[1, 2, 3, 4, 5]\n"
     ]
    }
   ],
   "source": [
    "num = [1, 2, 3, 4, 5]\n",
    "print(num)"
   ]
  },
  {
   "cell_type": "code",
   "execution_count": 19,
   "id": "00332497",
   "metadata": {},
   "outputs": [
    {
     "name": "stdout",
     "output_type": "stream",
     "text": [
      "1\n",
      "5\n"
     ]
    }
   ],
   "source": [
    "### Access Elements\n",
    "\n",
    "print(num[0])\n",
    "print(num[-1])"
   ]
  },
  {
   "cell_type": "code",
   "execution_count": 20,
   "id": "26cad78b",
   "metadata": {},
   "outputs": [],
   "source": [
    "num[1] = 12"
   ]
  },
  {
   "cell_type": "code",
   "execution_count": 21,
   "id": "d725b124",
   "metadata": {},
   "outputs": [
    {
     "data": {
      "text/plain": [
       "[1, 12, 3, 4, 5]"
      ]
     },
     "execution_count": 21,
     "metadata": {},
     "output_type": "execute_result"
    }
   ],
   "source": [
    "num"
   ]
  },
  {
   "cell_type": "code",
   "execution_count": 22,
   "id": "82001058",
   "metadata": {},
   "outputs": [
    {
     "data": {
      "text/plain": [
       "[1, 12, 3, 4, 5, 6]"
      ]
     },
     "execution_count": 22,
     "metadata": {},
     "output_type": "execute_result"
    }
   ],
   "source": [
    "### Add\n",
    "\n",
    "num.append(6)\n",
    "num"
   ]
  },
  {
   "cell_type": "code",
   "execution_count": 23,
   "id": "2b4995e1",
   "metadata": {},
   "outputs": [
    {
     "data": {
      "text/plain": [
       "[1, 10, 12, 3, 4, 5, 6]"
      ]
     },
     "execution_count": 23,
     "metadata": {},
     "output_type": "execute_result"
    }
   ],
   "source": [
    "num.insert(1, 10)\n",
    "num"
   ]
  },
  {
   "cell_type": "code",
   "execution_count": 24,
   "id": "5ec90b5a",
   "metadata": {},
   "outputs": [
    {
     "data": {
      "text/plain": [
       "[1, 10, 12, 4, 5, 6]"
      ]
     },
     "execution_count": 24,
     "metadata": {},
     "output_type": "execute_result"
    }
   ],
   "source": [
    "# Remove\n",
    "\n",
    "num.remove(3)\n",
    "num"
   ]
  },
  {
   "cell_type": "code",
   "execution_count": 26,
   "id": "ff53ba4a",
   "metadata": {},
   "outputs": [
    {
     "data": {
      "text/plain": [
       "[1, 10, 12, 4, 5]"
      ]
     },
     "execution_count": 26,
     "metadata": {},
     "output_type": "execute_result"
    }
   ],
   "source": [
    "num.remove(6)\n",
    "num"
   ]
  },
  {
   "cell_type": "code",
   "execution_count": 30,
   "id": "eec455cb",
   "metadata": {},
   "outputs": [
    {
     "data": {
      "text/plain": [
       "(4, 100, 40, 10, 25.0)"
      ]
     },
     "execution_count": 30,
     "metadata": {},
     "output_type": "execute_result"
    }
   ],
   "source": [
    "# Other methods\n",
    "\n",
    "numbers = [10, 20, 30, 40]\n",
    "\n",
    "len(numbers), sum(numbers), max(numbers), min(numbers), sum(numbers)/len(numbers)"
   ]
  },
  {
   "cell_type": "code",
   "execution_count": 31,
   "id": "78acb4fa",
   "metadata": {},
   "outputs": [
    {
     "name": "stdout",
     "output_type": "stream",
     "text": [
      "4\n",
      "100\n",
      "40\n",
      "10\n",
      "25.0\n"
     ]
    }
   ],
   "source": [
    "print(len(numbers))\n",
    "print(sum(numbers))\n",
    "print(max(numbers))\n",
    "print(min(numbers))\n",
    "print(sum(numbers)/len(numbers))"
   ]
  },
  {
   "cell_type": "markdown",
   "id": "16cbd70e",
   "metadata": {},
   "source": [
    "#### Tuples\n",
    "\n",
    "- Tuples are like lists, but immutable (cannot be changed)\n",
    "\n",
    "- Defined with ( )\n",
    "\n",
    "- Key Properties:\n",
    "\n",
    "    - Ordered\n",
    "        - Items are stored in sequence and can be accesed by index\n",
    "\n",
    "    - Immutable\n",
    "        - You cannot add, remove, or modify elements after creation\n",
    "\n",
    "    - Hetrogeneous\n",
    "        - Can Store multiple data types in one tuple\n",
    "    \n",
    "    - Allow Duplicates\n",
    "        - Same values can appear multiple times "
   ]
  },
  {
   "cell_type": "code",
   "execution_count": 32,
   "id": "59f2cda2",
   "metadata": {},
   "outputs": [
    {
     "data": {
      "text/plain": [
       "()"
      ]
     },
     "execution_count": 32,
     "metadata": {},
     "output_type": "execute_result"
    }
   ],
   "source": [
    "# Empty tuple\n",
    "\n",
    "empty = ()\n",
    "empty"
   ]
  },
  {
   "cell_type": "code",
   "execution_count": 33,
   "id": "7faa70b7",
   "metadata": {},
   "outputs": [
    {
     "data": {
      "text/plain": [
       "(42,)"
      ]
     },
     "execution_count": 33,
     "metadata": {},
     "output_type": "execute_result"
    }
   ],
   "source": [
    "# Single Element\n",
    "\n",
    "single = (42,)\n",
    "single"
   ]
  },
  {
   "cell_type": "code",
   "execution_count": 34,
   "id": "d3b92d90",
   "metadata": {},
   "outputs": [
    {
     "data": {
      "text/plain": [
       "(1, 'Hello', 3.14, True)"
      ]
     },
     "execution_count": 34,
     "metadata": {},
     "output_type": "execute_result"
    }
   ],
   "source": [
    "# Mixed Data\n",
    "mixed = (1, \"Hello\", 3.14, True)\n",
    "mixed"
   ]
  },
  {
   "cell_type": "markdown",
   "id": "6d369f7f",
   "metadata": {},
   "source": [
    "#### Sets"
   ]
  },
  {
   "cell_type": "code",
   "execution_count": 35,
   "id": "1aad3edf",
   "metadata": {},
   "outputs": [
    {
     "data": {
      "text/plain": [
       "{1, 2, 3, 4}"
      ]
     },
     "execution_count": 35,
     "metadata": {},
     "output_type": "execute_result"
    }
   ],
   "source": [
    "s = {1, 2, 3, 4}\n",
    "s"
   ]
  },
  {
   "cell_type": "code",
   "execution_count": 36,
   "id": "daa261e1",
   "metadata": {},
   "outputs": [
    {
     "data": {
      "text/plain": [
       "{1, 2, 3, 4, 5}"
      ]
     },
     "execution_count": 36,
     "metadata": {},
     "output_type": "execute_result"
    }
   ],
   "source": [
    "s.add(5)\n",
    "s"
   ]
  },
  {
   "cell_type": "code",
   "execution_count": 38,
   "id": "1186ccb6",
   "metadata": {},
   "outputs": [
    {
     "data": {
      "text/plain": [
       "{1, 3, 4, 5}"
      ]
     },
     "execution_count": 38,
     "metadata": {},
     "output_type": "execute_result"
    }
   ],
   "source": [
    "s.remove(2)\n",
    "s"
   ]
  },
  {
   "cell_type": "code",
   "execution_count": 39,
   "id": "262a79f9",
   "metadata": {},
   "outputs": [
    {
     "name": "stdout",
     "output_type": "stream",
     "text": [
      "{1, 2, 3, 4, 5}\n",
      "{3}\n",
      "{1, 2}\n"
     ]
    }
   ],
   "source": [
    "# set Operations\n",
    "a = {1, 2, 3}\n",
    "b = {3, 4, 5}\n",
    "\n",
    "print(a | b)\n",
    "print(a & b)\n",
    "print(a - b)"
   ]
  },
  {
   "cell_type": "markdown",
   "id": "adb785cb",
   "metadata": {},
   "source": [
    "#### Dictonaries\n",
    "\n",
    "- Dictonaries are key value pairs.\n",
    "\n",
    "- Defined with {key: value}"
   ]
  },
  {
   "cell_type": "code",
   "execution_count": 40,
   "id": "958778f6",
   "metadata": {},
   "outputs": [
    {
     "data": {
      "text/plain": [
       "{'name': 'Aditya', 'age': 20, 'city': 'Gobindpur'}"
      ]
     },
     "execution_count": 40,
     "metadata": {},
     "output_type": "execute_result"
    }
   ],
   "source": [
    "# Creating Dictonary\n",
    "\n",
    "student =  {\n",
    "    \"name\": \"Aditya\",\n",
    "    \"age\": 20, \n",
    "    \"city\": \"Gobindpur\"\n",
    "}\n",
    "\n",
    "student"
   ]
  },
  {
   "cell_type": "code",
   "execution_count": 41,
   "id": "080a8fc5",
   "metadata": {},
   "outputs": [
    {
     "data": {
      "text/plain": [
       "'Aditya'"
      ]
     },
     "execution_count": 41,
     "metadata": {},
     "output_type": "execute_result"
    }
   ],
   "source": [
    "# Accessing Values\n",
    "\n",
    "student[\"name\"]"
   ]
  },
  {
   "cell_type": "code",
   "execution_count": 42,
   "id": "be4a9257",
   "metadata": {},
   "outputs": [
    {
     "data": {
      "text/plain": [
       "'Gobindpur'"
      ]
     },
     "execution_count": 42,
     "metadata": {},
     "output_type": "execute_result"
    }
   ],
   "source": [
    "student[\"city\"]"
   ]
  },
  {
   "cell_type": "code",
   "execution_count": 43,
   "id": "9b588c84",
   "metadata": {},
   "outputs": [
    {
     "data": {
      "text/plain": [
       "20"
      ]
     },
     "execution_count": 43,
     "metadata": {},
     "output_type": "execute_result"
    }
   ],
   "source": [
    "student.get(\"age\")"
   ]
  },
  {
   "cell_type": "code",
   "execution_count": 44,
   "id": "e1bf61aa",
   "metadata": {},
   "outputs": [
    {
     "data": {
      "text/plain": [
       "20"
      ]
     },
     "execution_count": 44,
     "metadata": {},
     "output_type": "execute_result"
    }
   ],
   "source": [
    "ag = \"age\"\n",
    "\n",
    "student[ag]"
   ]
  },
  {
   "cell_type": "code",
   "execution_count": 45,
   "id": "45f6cfbd",
   "metadata": {},
   "outputs": [
    {
     "data": {
      "text/plain": [
       "20"
      ]
     },
     "execution_count": 45,
     "metadata": {},
     "output_type": "execute_result"
    }
   ],
   "source": [
    "student.get(ag)"
   ]
  },
  {
   "cell_type": "code",
   "execution_count": 46,
   "id": "a9bc8114",
   "metadata": {},
   "outputs": [],
   "source": [
    "del student[\"city\"]"
   ]
  },
  {
   "cell_type": "code",
   "execution_count": 47,
   "id": "87eaf586",
   "metadata": {},
   "outputs": [
    {
     "data": {
      "text/plain": [
       "{'name': 'Aditya', 'age': 20}"
      ]
     },
     "execution_count": 47,
     "metadata": {},
     "output_type": "execute_result"
    }
   ],
   "source": [
    "student"
   ]
  },
  {
   "cell_type": "markdown",
   "id": "f423f7e3",
   "metadata": {},
   "source": [
    "### Conditional Statement and looop in python"
   ]
  },
  {
   "cell_type": "code",
   "execution_count": 1,
   "id": "d2f8dd55",
   "metadata": {},
   "outputs": [
    {
     "name": "stdout",
     "output_type": "stream",
     "text": [
      "You are an adult\n"
     ]
    }
   ],
   "source": [
    "age = 20\n",
    "\n",
    "if age < 18:\n",
    "    print(\"You are a minor\")\n",
    "elif age >= 18 and age < 60:\n",
    "    print(\"You are an adult\")\n",
    "else:\n",
    "    print(\"You are a senior citizen\")"
   ]
  },
  {
   "cell_type": "markdown",
   "id": "b5e40c54",
   "metadata": {},
   "source": [
    "### Loop control Statements\n",
    "\n",
    "- break -> exit loop immediately\n",
    "- continue -> skip the current iteration and move to the next iteration\n",
    "- pass -> placeholder (does nothing, just avoids error),"
   ]
  },
  {
   "cell_type": "code",
   "execution_count": 2,
   "id": "acdb3a81",
   "metadata": {},
   "outputs": [
    {
     "name": "stdout",
     "output_type": "stream",
     "text": [
      "1\n",
      "2\n"
     ]
    }
   ],
   "source": [
    "# Break\n",
    "\n",
    "for i in range(1, 6):\n",
    "    if i == 3:\n",
    "        break\n",
    "    print(i)"
   ]
  },
  {
   "cell_type": "code",
   "execution_count": 3,
   "id": "b63bb6f7",
   "metadata": {},
   "outputs": [
    {
     "name": "stdout",
     "output_type": "stream",
     "text": [
      "1\n",
      "2\n",
      "4\n",
      "5\n"
     ]
    }
   ],
   "source": [
    "# Continue\n",
    "\n",
    "for i in range(1, 6):\n",
    "    if i == 3:\n",
    "        continue\n",
    "    print(i)"
   ]
  },
  {
   "cell_type": "markdown",
   "id": "3abc0c9a",
   "metadata": {},
   "source": [
    "#### pass is a null statement in python\n",
    "\n",
    "- It does nothing when executed\n",
    "\n",
    "- It's used as a placeholder when you want to write code editor\n",
    "\n",
    "- but need syntatically correct python right now"
   ]
  },
  {
   "cell_type": "code",
   "execution_count": 4,
   "id": "fcaf6adc",
   "metadata": {},
   "outputs": [
    {
     "name": "stdout",
     "output_type": "stream",
     "text": [
      "1\n",
      "2\n",
      "3\n",
      "4\n",
      "5\n"
     ]
    }
   ],
   "source": [
    "for i in range(1, 6):\n",
    "    if i == 3:\n",
    "        pass\n",
    "    print(i)"
   ]
  },
  {
   "cell_type": "markdown",
   "id": "98a3949a",
   "metadata": {},
   "source": [
    "#### Functions\n",
    "\n",
    "- A function is a block of resuable code that performs a specific task.\n",
    "\n",
    "- Instead of writing the recipe for \"making tea every time,\"\n",
    "\n",
    "- You just say: make_tea()"
   ]
  },
  {
   "cell_type": "code",
   "execution_count": 5,
   "id": "0bc72b0e",
   "metadata": {},
   "outputs": [],
   "source": [
    "def function_name(parameters):\n",
    "    \"\"\"docstring (optional)\"\"\"\n",
    "\n",
    "    # Function body\n",
    "    return \"value\""
   ]
  },
  {
   "cell_type": "code",
   "execution_count": 6,
   "id": "9378b5b7",
   "metadata": {},
   "outputs": [
    {
     "name": "stdout",
     "output_type": "stream",
     "text": [
      "Hello, Aditya!\n"
     ]
    }
   ],
   "source": [
    "# Simple Function\n",
    "\n",
    "def greet_user(name):\n",
    "    print(f\"Hello, {name}!\")\n",
    "\n",
    "greet_user(\"Aditya\")"
   ]
  },
  {
   "cell_type": "code",
   "execution_count": 7,
   "id": "1692d9d2",
   "metadata": {},
   "outputs": [
    {
     "name": "stdout",
     "output_type": "stream",
     "text": [
      "7\n"
     ]
    }
   ],
   "source": [
    "# Function with return value\n",
    "\n",
    "def add(a, b):\n",
    "    return a+b\n",
    "\n",
    "result = add(2, 5)\n",
    "\n",
    "print(result)"
   ]
  },
  {
   "cell_type": "code",
   "execution_count": 8,
   "id": "77f8e1e0",
   "metadata": {},
   "outputs": [
    {
     "name": "stdout",
     "output_type": "stream",
     "text": [
      "25\n"
     ]
    }
   ],
   "source": [
    "# Default Parameters\n",
    "\n",
    "def power(base, exponent=2):\n",
    "    return base**exponent\n",
    "\n",
    "result = power(5)\n",
    "\n",
    "print(result)"
   ]
  },
  {
   "cell_type": "code",
   "execution_count": 9,
   "id": "d2162dd2",
   "metadata": {},
   "outputs": [
    {
     "name": "stdout",
     "output_type": "stream",
     "text": [
      "15\n",
      "5\n",
      "50\n"
     ]
    }
   ],
   "source": [
    "# Multiple Return values\n",
    "\n",
    "def cal(a, b):\n",
    "    return a+b, a-b, a*b\n",
    "\n",
    "sum, diff, prod = cal(10, 5)\n",
    "\n",
    "print(sum)\n",
    "print(diff)\n",
    "print(prod)"
   ]
  },
  {
   "cell_type": "markdown",
   "id": "55c03361",
   "metadata": {},
   "source": [
    "#### Unpacking"
   ]
  },
  {
   "cell_type": "code",
   "execution_count": 12,
   "id": "6a735ce4",
   "metadata": {},
   "outputs": [
    {
     "name": "stdout",
     "output_type": "stream",
     "text": [
      "10 20\n",
      "10 20 30\n"
     ]
    }
   ],
   "source": [
    "numbers = [10, 20, 30]\n",
    "\n",
    "a, b, c = numbers\n",
    "print(a, b)\n",
    "print(a, b, c)"
   ]
  },
  {
   "cell_type": "code",
   "execution_count": null,
   "id": "10c84695",
   "metadata": {},
   "outputs": [
    {
     "name": "stdout",
     "output_type": "stream",
     "text": [
      "1\n",
      "2\n",
      "[3, 4, 5, 6, 7, 9, 10, 20]\n"
     ]
    }
   ],
   "source": [
    "num = [1, 2, 3, 4, 5, 6, 7, 9, 10, 20]\n",
    "\n",
    "a, b, *rest = num \n",
    "\n",
    "print(a)\n",
    "print(b)\n",
    "print(rest)"
   ]
  },
  {
   "cell_type": "code",
   "execution_count": 14,
   "id": "f6580d30",
   "metadata": {},
   "outputs": [
    {
     "name": "stdout",
     "output_type": "stream",
     "text": [
      "1\n",
      "[2, 3, 4, 5, 6, 7, 9, 10]\n",
      "20\n"
     ]
    }
   ],
   "source": [
    "a, *mid, c = num\n",
    "\n",
    "print(a)\n",
    "print(mid)\n",
    "print(c)"
   ]
  },
  {
   "cell_type": "code",
   "execution_count": 16,
   "id": "16482386",
   "metadata": {},
   "outputs": [
    {
     "name": "stdout",
     "output_type": "stream",
     "text": [
      "60\n"
     ]
    }
   ],
   "source": [
    "# Unpacking with * in function calls\n",
    "\n",
    "def add(a, b, c):\n",
    "    return a + b + c\n",
    "\n",
    "nums = [10, 20, 30]\n",
    "\n",
    "print(add(*nums))"
   ]
  },
  {
   "cell_type": "code",
   "execution_count": 21,
   "id": "21119cbd",
   "metadata": {},
   "outputs": [
    {
     "name": "stdout",
     "output_type": "stream",
     "text": [
      "Akash is 100 years old and lives in Jodhpur\n"
     ]
    }
   ],
   "source": [
    "# Dictionary unpacking with **\n",
    "\n",
    "def show_info(name, age, city):\n",
    "    print(f\"{name} is {age} years old and lives in {city}\")\n",
    "\n",
    "info = {\n",
    "    \"name\": \"Akash\",\n",
    "    \"age\": 100,\n",
    "    \"city\": \"Jodhpur\"\n",
    "}\n",
    "\n",
    "show_info(**info)"
   ]
  },
  {
   "cell_type": "code",
   "execution_count": 27,
   "id": "3092a9bd",
   "metadata": {},
   "outputs": [
    {
     "name": "stdout",
     "output_type": "stream",
     "text": [
      "[1, 2, 3, 4, 5, 6]\n"
     ]
    }
   ],
   "source": [
    "# Mergin with unpacking\n",
    "\n",
    "list1 = [1, 2, 3]\n",
    "list2 = [4, 5, 6]\n",
    "\n",
    "merged = [*list1, *list2]\n",
    "print(merged)"
   ]
  },
  {
   "cell_type": "code",
   "execution_count": 28,
   "id": "5dd0330f",
   "metadata": {},
   "outputs": [
    {
     "name": "stdout",
     "output_type": "stream",
     "text": [
      "[1, 2, 3, 4, 5, 6]\n"
     ]
    }
   ],
   "source": [
    "print(list1 + list2)"
   ]
  },
  {
   "cell_type": "markdown",
   "id": "c0ab850f",
   "metadata": {},
   "source": [
    "#### Variable - length argument in python\n",
    "\n",
    "- Sometimes we don't know how many argument a function will get.\n",
    "- Python gives us two special ways to handle this:\n",
    "\n",
    "- *args -> for any number of positoinal arguemtns\n",
    "- **kwargs -> for any number of keyword arguments"
   ]
  },
  {
   "cell_type": "markdown",
   "id": "b2b3155b",
   "metadata": {},
   "source": [
    "##### Variable Positional Argumets -> *args\n",
    "\n",
    "- *args allows us to pass any number of positional arguments(like a tuple)"
   ]
  },
  {
   "cell_type": "code",
   "execution_count": 4,
   "id": "5f60e24f",
   "metadata": {},
   "outputs": [
    {
     "name": "stdout",
     "output_type": "stream",
     "text": [
      "(1, 2, 3, 4, 6)\n",
      "16\n",
      "(10, 20, 30, 40, 60, 40, 30, 10)\n",
      "240\n"
     ]
    }
   ],
   "source": [
    "def add_numbers(*args):\n",
    "    print(args)             # args is a tuple\n",
    "    return sum(args)\n",
    "\n",
    "print(add_numbers(1, 2, 3, 4, 6))\n",
    "print(add_numbers(10, 20, 30, 40, 60, 40, 30, 10))"
   ]
  },
  {
   "cell_type": "code",
   "execution_count": null,
   "id": "5b4daed1",
   "metadata": {},
   "outputs": [],
   "source": []
  }
 ],
 "metadata": {
  "kernelspec": {
   "display_name": "Python 3",
   "language": "python",
   "name": "python3"
  },
  "language_info": {
   "codemirror_mode": {
    "name": "ipython",
    "version": 3
   },
   "file_extension": ".py",
   "mimetype": "text/x-python",
   "name": "python",
   "nbconvert_exporter": "python",
   "pygments_lexer": "ipython3",
   "version": "3.11.0"
  }
 },
 "nbformat": 4,
 "nbformat_minor": 5
}
