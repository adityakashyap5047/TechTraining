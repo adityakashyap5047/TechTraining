{
 "cells": [
  {
   "cell_type": "markdown",
   "id": "2e64efca",
   "metadata": {},
   "source": [
    "#### Basic"
   ]
  },
  {
   "cell_type": "code",
   "execution_count": 1,
   "id": "1560c43e",
   "metadata": {},
   "outputs": [
    {
     "data": {
      "text/plain": [
       "10"
      ]
     },
     "execution_count": 1,
     "metadata": {},
     "output_type": "execute_result"
    }
   ],
   "source": [
    "x = 10\n",
    "x"
   ]
  },
  {
   "cell_type": "code",
   "execution_count": 2,
   "id": "384d8286",
   "metadata": {},
   "outputs": [
    {
     "data": {
      "text/plain": [
       "20"
      ]
     },
     "execution_count": 2,
     "metadata": {},
     "output_type": "execute_result"
    }
   ],
   "source": [
    "y = 20\n",
    "y"
   ]
  },
  {
   "cell_type": "markdown",
   "id": "8cf155f7",
   "metadata": {},
   "source": [
    "#### String\n",
    "\n",
    "- Strings are sequence of characters, enclosed with single '', double \"\" and triple ''' ''' or \"\"\" \"\"\" quote"
   ]
  },
  {
   "cell_type": "code",
   "execution_count": 4,
   "id": "f0242f6f",
   "metadata": {},
   "outputs": [
    {
     "data": {
      "text/plain": [
       "'Aditya'"
      ]
     },
     "execution_count": 4,
     "metadata": {},
     "output_type": "execute_result"
    }
   ],
   "source": [
    "# Creating String\n",
    "\n",
    "name = \"Aditya\"\n",
    "name"
   ]
  },
  {
   "cell_type": "code",
   "execution_count": 6,
   "id": "b36d81d4",
   "metadata": {},
   "outputs": [
    {
     "name": "stdout",
     "output_type": "stream",
     "text": [
      "Aditya\n",
      "Kumar\n"
     ]
    }
   ],
   "source": [
    "# Escape Character\n",
    "\n",
    "first_name = \"Aditya\"\n",
    "last_name = \"Kumar\"\n",
    "\n",
    "print(first_name + \"\\n\" + last_name)"
   ]
  },
  {
   "cell_type": "code",
   "execution_count": 7,
   "id": "ff226f90",
   "metadata": {},
   "outputs": [
    {
     "name": "stdout",
     "output_type": "stream",
     "text": [
      "A\n"
     ]
    }
   ],
   "source": [
    "# Accessing Characters\n",
    "print(name[0])"
   ]
  },
  {
   "cell_type": "code",
   "execution_count": 8,
   "id": "1e5b40b3",
   "metadata": {},
   "outputs": [
    {
     "name": "stdout",
     "output_type": "stream",
     "text": [
      "Aditya Kumar\n",
      "AdityaAdityaAditya\n"
     ]
    }
   ],
   "source": [
    "# String Operation\n",
    "print(first_name + \" \" + last_name) # Concatenating Strings\n",
    "print(first_name * 3) # Repeating Strings"
   ]
  },
  {
   "cell_type": "code",
   "execution_count": null,
   "id": "3c735101",
   "metadata": {},
   "outputs": [
    {
     "data": {
      "text/plain": [
       "4"
      ]
     },
     "execution_count": 11,
     "metadata": {},
     "output_type": "execute_result"
    }
   ],
   "source": [
    "a = 3; b = 4"
   ]
  },
  {
   "cell_type": "code",
   "execution_count": 13,
   "id": "5443e2d7",
   "metadata": {},
   "outputs": [
    {
     "data": {
      "text/plain": [
       "14"
      ]
     },
     "execution_count": 13,
     "metadata": {},
     "output_type": "execute_result"
    }
   ],
   "source": [
    "c = 4 + 5 + 3\\\n",
    "            + 2\n",
    "c"
   ]
  },
  {
   "cell_type": "code",
   "execution_count": 16,
   "id": "9f2bad39",
   "metadata": {},
   "outputs": [
    {
     "name": "stdout",
     "output_type": "stream",
     "text": [
      "aditya\n",
      "ADITYA\n",
      "Space\n",
      "aaaaaSpaceaaaaa123\n"
     ]
    }
   ],
   "source": [
    "# String Methods\n",
    "\n",
    "print(first_name.lower())\n",
    "print(first_name.upper())\n",
    "print(\"      Space        \".strip())\n",
    "print(\"     Space     123\".replace(\" \", \"a\"))"
   ]
  },
  {
   "cell_type": "markdown",
   "id": "deac45f0",
   "metadata": {},
   "source": [
    "#### List\n",
    "\n",
    "- Lists are ordered, multable collections\n",
    "\n",
    "- Defined with []"
   ]
  },
  {
   "cell_type": "code",
   "execution_count": 17,
   "id": "17d86339",
   "metadata": {},
   "outputs": [
    {
     "name": "stdout",
     "output_type": "stream",
     "text": [
      "[1, 2, 3, 4, 5]\n"
     ]
    }
   ],
   "source": [
    "num = [1, 2, 3, 4, 5]\n",
    "print(num)"
   ]
  },
  {
   "cell_type": "code",
   "execution_count": 19,
   "id": "00332497",
   "metadata": {},
   "outputs": [
    {
     "name": "stdout",
     "output_type": "stream",
     "text": [
      "1\n",
      "5\n"
     ]
    }
   ],
   "source": [
    "### Access Elements\n",
    "\n",
    "print(num[0])\n",
    "print(num[-1])"
   ]
  },
  {
   "cell_type": "code",
   "execution_count": 20,
   "id": "26cad78b",
   "metadata": {},
   "outputs": [],
   "source": [
    "num[1] = 12"
   ]
  },
  {
   "cell_type": "code",
   "execution_count": 21,
   "id": "d725b124",
   "metadata": {},
   "outputs": [
    {
     "data": {
      "text/plain": [
       "[1, 12, 3, 4, 5]"
      ]
     },
     "execution_count": 21,
     "metadata": {},
     "output_type": "execute_result"
    }
   ],
   "source": [
    "num"
   ]
  },
  {
   "cell_type": "code",
   "execution_count": 22,
   "id": "82001058",
   "metadata": {},
   "outputs": [
    {
     "data": {
      "text/plain": [
       "[1, 12, 3, 4, 5, 6]"
      ]
     },
     "execution_count": 22,
     "metadata": {},
     "output_type": "execute_result"
    }
   ],
   "source": [
    "### Add\n",
    "\n",
    "num.append(6)\n",
    "num"
   ]
  },
  {
   "cell_type": "code",
   "execution_count": 23,
   "id": "2b4995e1",
   "metadata": {},
   "outputs": [
    {
     "data": {
      "text/plain": [
       "[1, 10, 12, 3, 4, 5, 6]"
      ]
     },
     "execution_count": 23,
     "metadata": {},
     "output_type": "execute_result"
    }
   ],
   "source": [
    "num.insert(1, 10)\n",
    "num"
   ]
  },
  {
   "cell_type": "code",
   "execution_count": 24,
   "id": "5ec90b5a",
   "metadata": {},
   "outputs": [
    {
     "data": {
      "text/plain": [
       "[1, 10, 12, 4, 5, 6]"
      ]
     },
     "execution_count": 24,
     "metadata": {},
     "output_type": "execute_result"
    }
   ],
   "source": [
    "# Remove\n",
    "\n",
    "num.remove(3)\n",
    "num"
   ]
  },
  {
   "cell_type": "code",
   "execution_count": 26,
   "id": "ff53ba4a",
   "metadata": {},
   "outputs": [
    {
     "data": {
      "text/plain": [
       "[1, 10, 12, 4, 5]"
      ]
     },
     "execution_count": 26,
     "metadata": {},
     "output_type": "execute_result"
    }
   ],
   "source": [
    "num.remove(6)\n",
    "num"
   ]
  },
  {
   "cell_type": "code",
   "execution_count": 30,
   "id": "eec455cb",
   "metadata": {},
   "outputs": [
    {
     "data": {
      "text/plain": [
       "(4, 100, 40, 10, 25.0)"
      ]
     },
     "execution_count": 30,
     "metadata": {},
     "output_type": "execute_result"
    }
   ],
   "source": [
    "# Other methods\n",
    "\n",
    "numbers = [10, 20, 30, 40]\n",
    "\n",
    "len(numbers), sum(numbers), max(numbers), min(numbers), sum(numbers)/len(numbers)"
   ]
  },
  {
   "cell_type": "code",
   "execution_count": 31,
   "id": "78acb4fa",
   "metadata": {},
   "outputs": [
    {
     "name": "stdout",
     "output_type": "stream",
     "text": [
      "4\n",
      "100\n",
      "40\n",
      "10\n",
      "25.0\n"
     ]
    }
   ],
   "source": [
    "print(len(numbers))\n",
    "print(sum(numbers))\n",
    "print(max(numbers))\n",
    "print(min(numbers))\n",
    "print(sum(numbers)/len(numbers))"
   ]
  },
  {
   "cell_type": "code",
   "execution_count": null,
   "id": "59f2cda2",
   "metadata": {},
   "outputs": [],
   "source": []
  }
 ],
 "metadata": {
  "kernelspec": {
   "display_name": "Python 3",
   "language": "python",
   "name": "python3"
  },
  "language_info": {
   "codemirror_mode": {
    "name": "ipython",
    "version": 3
   },
   "file_extension": ".py",
   "mimetype": "text/x-python",
   "name": "python",
   "nbconvert_exporter": "python",
   "pygments_lexer": "ipython3",
   "version": "3.11.0"
  }
 },
 "nbformat": 4,
 "nbformat_minor": 5
}
