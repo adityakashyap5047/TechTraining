{
 "cells": [
  {
   "cell_type": "markdown",
   "id": "2e64efca",
   "metadata": {},
   "source": [
    "#### Basic"
   ]
  },
  {
   "cell_type": "code",
   "execution_count": 1,
   "id": "1560c43e",
   "metadata": {},
   "outputs": [
    {
     "data": {
      "text/plain": [
       "10"
      ]
     },
     "execution_count": 1,
     "metadata": {},
     "output_type": "execute_result"
    }
   ],
   "source": [
    "x = 10\n",
    "x"
   ]
  },
  {
   "cell_type": "code",
   "execution_count": 2,
   "id": "384d8286",
   "metadata": {},
   "outputs": [
    {
     "data": {
      "text/plain": [
       "20"
      ]
     },
     "execution_count": 2,
     "metadata": {},
     "output_type": "execute_result"
    }
   ],
   "source": [
    "y = 20\n",
    "y"
   ]
  },
  {
   "cell_type": "markdown",
   "id": "8cf155f7",
   "metadata": {},
   "source": [
    "#### String\n",
    "\n",
    "- Strings are sequence of characters, enclosed with single '', double \"\" and triple ''' ''' or \"\"\" \"\"\" quote"
   ]
  },
  {
   "cell_type": "code",
   "execution_count": 4,
   "id": "f0242f6f",
   "metadata": {},
   "outputs": [
    {
     "data": {
      "text/plain": [
       "'Aditya'"
      ]
     },
     "execution_count": 4,
     "metadata": {},
     "output_type": "execute_result"
    }
   ],
   "source": [
    "# Creating String\n",
    "\n",
    "name = \"Aditya\"\n",
    "name"
   ]
  },
  {
   "cell_type": "code",
   "execution_count": 6,
   "id": "b36d81d4",
   "metadata": {},
   "outputs": [
    {
     "name": "stdout",
     "output_type": "stream",
     "text": [
      "Aditya\n",
      "Kumar\n"
     ]
    }
   ],
   "source": [
    "# Escape Character\n",
    "\n",
    "first_name = \"Aditya\"\n",
    "last_name = \"Kumar\"\n",
    "\n",
    "print(first_name + \"\\n\" + last_name)"
   ]
  },
  {
   "cell_type": "code",
   "execution_count": 7,
   "id": "ff226f90",
   "metadata": {},
   "outputs": [
    {
     "name": "stdout",
     "output_type": "stream",
     "text": [
      "A\n"
     ]
    }
   ],
   "source": [
    "# Accessing Characters\n",
    "print(name[0])"
   ]
  },
  {
   "cell_type": "code",
   "execution_count": 8,
   "id": "1e5b40b3",
   "metadata": {},
   "outputs": [
    {
     "name": "stdout",
     "output_type": "stream",
     "text": [
      "Aditya Kumar\n",
      "AdityaAdityaAditya\n"
     ]
    }
   ],
   "source": [
    "# String Operation\n",
    "print(first_name + \" \" + last_name) # Concatenating Strings\n",
    "print(first_name * 3) # Repeating Strings"
   ]
  },
  {
   "cell_type": "code",
   "execution_count": null,
   "id": "3c735101",
   "metadata": {},
   "outputs": [
    {
     "data": {
      "text/plain": [
       "4"
      ]
     },
     "execution_count": 11,
     "metadata": {},
     "output_type": "execute_result"
    }
   ],
   "source": [
    "a = 3; b = 4"
   ]
  },
  {
   "cell_type": "code",
   "execution_count": 13,
   "id": "5443e2d7",
   "metadata": {},
   "outputs": [
    {
     "data": {
      "text/plain": [
       "14"
      ]
     },
     "execution_count": 13,
     "metadata": {},
     "output_type": "execute_result"
    }
   ],
   "source": [
    "c = 4 + 5 + 3\\\n",
    "            + 2\n",
    "c"
   ]
  },
  {
   "cell_type": "code",
   "execution_count": 16,
   "id": "9f2bad39",
   "metadata": {},
   "outputs": [
    {
     "name": "stdout",
     "output_type": "stream",
     "text": [
      "aditya\n",
      "ADITYA\n",
      "Space\n",
      "aaaaaSpaceaaaaa123\n"
     ]
    }
   ],
   "source": [
    "# String Methods\n",
    "\n",
    "print(first_name.lower())\n",
    "print(first_name.upper())\n",
    "print(\"      Space        \".strip())\n",
    "print(\"     Space     123\".replace(\" \", \"a\"))"
   ]
  },
  {
   "cell_type": "code",
   "execution_count": null,
   "id": "17d86339",
   "metadata": {},
   "outputs": [],
   "source": []
  }
 ],
 "metadata": {
  "kernelspec": {
   "display_name": "Python 3",
   "language": "python",
   "name": "python3"
  },
  "language_info": {
   "codemirror_mode": {
    "name": "ipython",
    "version": 3
   },
   "file_extension": ".py",
   "mimetype": "text/x-python",
   "name": "python",
   "nbconvert_exporter": "python",
   "pygments_lexer": "ipython3",
   "version": "3.11.0"
  }
 },
 "nbformat": 4,
 "nbformat_minor": 5
}
